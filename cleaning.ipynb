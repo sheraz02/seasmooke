{
 "cells": [
  {
   "cell_type": "markdown",
   "id": "0be90f57-9435-443a-b287-92efe8302be4",
   "metadata": {},
   "source": [
    "# Generate fake data"
   ]
  },
  {
   "cell_type": "code",
   "execution_count": 3,
   "id": "2e5e70a3-a1c0-4563-8336-4e8550180641",
   "metadata": {},
   "outputs": [
    {
     "name": "stdout",
     "output_type": "stream",
     "text": [
      "Original Dataset with Missing Values\n"
     ]
    },
    {
     "data": {
      "text/html": [
       "<div>\n",
       "<style scoped>\n",
       "    .dataframe tbody tr th:only-of-type {\n",
       "        vertical-align: middle;\n",
       "    }\n",
       "\n",
       "    .dataframe tbody tr th {\n",
       "        vertical-align: top;\n",
       "    }\n",
       "\n",
       "    .dataframe thead th {\n",
       "        text-align: right;\n",
       "    }\n",
       "</style>\n",
       "<table border=\"1\" class=\"dataframe\">\n",
       "  <thead>\n",
       "    <tr style=\"text-align: right;\">\n",
       "      <th></th>\n",
       "      <th>EmployeeID</th>\n",
       "      <th>Name</th>\n",
       "      <th>Department</th>\n",
       "      <th>Salary</th>\n",
       "      <th>Age</th>\n",
       "      <th>DateOfJoining</th>\n",
       "      <th>PerformanceScore</th>\n",
       "    </tr>\n",
       "  </thead>\n",
       "  <tbody>\n",
       "    <tr>\n",
       "      <th>0</th>\n",
       "      <td>83810</td>\n",
       "      <td>Patrick Sanchez</td>\n",
       "      <td>Operations</td>\n",
       "      <td>48906.49</td>\n",
       "      <td>39.0</td>\n",
       "      <td>2020-09-18</td>\n",
       "      <td>NaN</td>\n",
       "    </tr>\n",
       "    <tr>\n",
       "      <th>1</th>\n",
       "      <td>13434</td>\n",
       "      <td>Stephanie Miller</td>\n",
       "      <td>Operations</td>\n",
       "      <td>48199.61</td>\n",
       "      <td>56.0</td>\n",
       "      <td>2022-02-28</td>\n",
       "      <td>1.3</td>\n",
       "    </tr>\n",
       "    <tr>\n",
       "      <th>2</th>\n",
       "      <td>3905</td>\n",
       "      <td>David Guzman</td>\n",
       "      <td>Sales</td>\n",
       "      <td>42383.78</td>\n",
       "      <td>35.0</td>\n",
       "      <td>2022-11-16</td>\n",
       "      <td>NaN</td>\n",
       "    </tr>\n",
       "    <tr>\n",
       "      <th>3</th>\n",
       "      <td>93850</td>\n",
       "      <td>Kimberly Robinson</td>\n",
       "      <td>Finance</td>\n",
       "      <td>55907.01</td>\n",
       "      <td>56.0</td>\n",
       "      <td>2023-01-08</td>\n",
       "      <td>2.7</td>\n",
       "    </tr>\n",
       "    <tr>\n",
       "      <th>4</th>\n",
       "      <td>851</td>\n",
       "      <td>Caitlin Henderson</td>\n",
       "      <td>Finance</td>\n",
       "      <td>62255.26</td>\n",
       "      <td>22.0</td>\n",
       "      <td>2021-06-04</td>\n",
       "      <td>NaN</td>\n",
       "    </tr>\n",
       "    <tr>\n",
       "      <th>5</th>\n",
       "      <td>28221</td>\n",
       "      <td>Gabrielle Davis</td>\n",
       "      <td>Operations</td>\n",
       "      <td>73809.15</td>\n",
       "      <td>39.0</td>\n",
       "      <td>2020-06-30</td>\n",
       "      <td>1.6</td>\n",
       "    </tr>\n",
       "    <tr>\n",
       "      <th>6</th>\n",
       "      <td>45082</td>\n",
       "      <td>Renee Blair</td>\n",
       "      <td>Sales</td>\n",
       "      <td>47419.67</td>\n",
       "      <td>28.0</td>\n",
       "      <td>2022-09-30</td>\n",
       "      <td>2.4</td>\n",
       "    </tr>\n",
       "    <tr>\n",
       "      <th>7</th>\n",
       "      <td>49615</td>\n",
       "      <td>Edward Fuller</td>\n",
       "      <td>Finance</td>\n",
       "      <td>61161.67</td>\n",
       "      <td>24.0</td>\n",
       "      <td>2024-07-15</td>\n",
       "      <td>NaN</td>\n",
       "    </tr>\n",
       "    <tr>\n",
       "      <th>8</th>\n",
       "      <td>47400</td>\n",
       "      <td>Michele Williams</td>\n",
       "      <td>Engineering</td>\n",
       "      <td>46304.02</td>\n",
       "      <td>NaN</td>\n",
       "      <td>2021-03-02</td>\n",
       "      <td>4.3</td>\n",
       "    </tr>\n",
       "    <tr>\n",
       "      <th>9</th>\n",
       "      <td>37930</td>\n",
       "      <td>Dr. Sharon James</td>\n",
       "      <td>Finance</td>\n",
       "      <td>55383.09</td>\n",
       "      <td>26.0</td>\n",
       "      <td>2022-04-28</td>\n",
       "      <td>NaN</td>\n",
       "    </tr>\n",
       "  </tbody>\n",
       "</table>\n",
       "</div>"
      ],
      "text/plain": [
       "   EmployeeID               Name   Department    Salary   Age DateOfJoining  \\\n",
       "0       83810    Patrick Sanchez   Operations  48906.49  39.0    2020-09-18   \n",
       "1       13434   Stephanie Miller   Operations  48199.61  56.0    2022-02-28   \n",
       "2        3905       David Guzman        Sales  42383.78  35.0    2022-11-16   \n",
       "3       93850  Kimberly Robinson      Finance  55907.01  56.0    2023-01-08   \n",
       "4         851  Caitlin Henderson      Finance  62255.26  22.0    2021-06-04   \n",
       "5       28221    Gabrielle Davis   Operations  73809.15  39.0    2020-06-30   \n",
       "6       45082        Renee Blair        Sales  47419.67  28.0    2022-09-30   \n",
       "7       49615      Edward Fuller      Finance  61161.67  24.0    2024-07-15   \n",
       "8       47400   Michele Williams  Engineering  46304.02   NaN    2021-03-02   \n",
       "9       37930   Dr. Sharon James      Finance  55383.09  26.0    2022-04-28   \n",
       "\n",
       "   PerformanceScore  \n",
       "0               NaN  \n",
       "1               1.3  \n",
       "2               NaN  \n",
       "3               2.7  \n",
       "4               NaN  \n",
       "5               1.6  \n",
       "6               2.4  \n",
       "7               NaN  \n",
       "8               4.3  \n",
       "9               NaN  "
      ]
     },
     "execution_count": 3,
     "metadata": {},
     "output_type": "execute_result"
    }
   ],
   "source": [
    "import pandas as pd\n",
    "import numpy as np\n",
    "import random\n",
    "from faker import Faker\n",
    "\n",
    "# Initialize the Faker object for generating fake dat\n",
    "fake = Faker()\n",
    "\n",
    "# Set the random seed for reproducibility\n",
    "Faker.seed(42)\n",
    "random.seed(42)\n",
    "\n",
    "# Generate fake data\n",
    "def generate_employee_data(num_rows):\n",
    "    data = []\n",
    "    departments = ['Sales', 'Marketing', 'HR', 'Engineering', 'Finance', 'Operations']\n",
    "    for _ in range(num_rows):\n",
    "        employee_id = fake.unique.random_number(digits=5)\n",
    "        name = fake.name()\n",
    "        department = random.choice(departments)\n",
    "        salary = round(random.uniform(40000, 120000), 2)\n",
    "        age = random.randint(22, 60)\n",
    "        date_of_joining = fake.date_this_decade()\n",
    "        performance_score = random.choice([np.nan, round(random.uniform(1, 5), 1)])  # Random NaN for missing data\n",
    "        data.append([employee_id, name, department, salary, age, date_of_joining, performance_score])\n",
    "    return data\n",
    "\n",
    "# Generate a dataset of 100 rows\n",
    "num_employees = 100\n",
    "employee_data = generate_employee_data(num_employees)\n",
    "\n",
    "\n",
    "# Create a DataFrame\n",
    "columns = ['EmployeeID', 'Name', 'Department', 'Salary', 'Age', 'DateOfJoining', 'PerformanceScore']\n",
    "df = pd.DataFrame(employee_data, columns=columns)\n",
    "\n",
    "# Introduce some missing values at random\n",
    "df.loc[random.sample(range(df.shape[0]), 10), 'Salary'] = np.nan\n",
    "df.loc[random.sample(range(df.shape[0]), 5), 'Age'] = np.nan\n",
    "df.loc[random.sample(range(df.shape[0]), 8), 'PerformanceScore'] = np.nan\n",
    "\n",
    "# Display the first few rows of the fake dataset\n",
    "print(\"Original Dataset with Missing Values\")\n",
    "df.head(10)"
   ]
  },
  {
   "cell_type": "markdown",
   "id": "6284fb7b-f9a9-4012-a45c-a1d55b9def17",
   "metadata": {},
   "source": [
    "# Replace any EmployeeID with less than 5 digits"
   ]
  },
  {
   "cell_type": "code",
   "execution_count": 4,
   "id": "276639e8-8fca-4204-ba7a-3b573cc091d2",
   "metadata": {},
   "outputs": [
    {
     "name": "stdout",
     "output_type": "stream",
     "text": [
      "Existing file updated with new EmployeeID values.\n"
     ]
    }
   ],
   "source": [
    "# Load the existing CSV file into a DataFrame\n",
    "df = pd.read_csv('employee_data.csv')\n",
    "\n",
    "# Replace any EmployeeID with less than 5 digits\n",
    "eid = df['EmployeeID']\n",
    "for i in range(len(eid)):\n",
    "    if len(str(eid[i])) < 5:\n",
    "        new_id = fake.unique.random_number(digits=5)\n",
    "\n",
    "        # Ensure the new ID is unique\n",
    "        while new_id in df['EmployeeID'].values:\n",
    "            new_id = fake.unique.random_number(digits=5)\n",
    "        \n",
    "        # Update the EmployeeID at the specified index\n",
    "        df.at[i, 'EmployeeID'] = new_id\n",
    "\n",
    "# Save the updated DataFrame back to the same CSV file\n",
    "df.to_csv('employee_data.csv', index=False)\n",
    "print(\"Existing file updated with new EmployeeID values.\")\n"
   ]
  },
  {
   "cell_type": "markdown",
   "id": "67e275cc-9c45-4f53-9b57-5e561c9b7377",
   "metadata": {},
   "source": [
    "# Get Info"
   ]
  },
  {
   "cell_type": "code",
   "execution_count": 5,
   "id": "a91375d6-821c-4454-b054-26586bfb5b0e",
   "metadata": {},
   "outputs": [
    {
     "name": "stdout",
     "output_type": "stream",
     "text": [
      "<class 'pandas.core.frame.DataFrame'>\n",
      "RangeIndex: 100 entries, 0 to 99\n",
      "Data columns (total 7 columns):\n",
      " #   Column            Non-Null Count  Dtype  \n",
      "---  ------            --------------  -----  \n",
      " 0   EmployeeID        100 non-null    int64  \n",
      " 1   Name              100 non-null    object \n",
      " 2   Department        100 non-null    object \n",
      " 3   Salary            100 non-null    float64\n",
      " 4   Age               100 non-null    int64  \n",
      " 5   DateOfJoining     100 non-null    object \n",
      " 6   PerformanceScore  100 non-null    float64\n",
      "dtypes: float64(2), int64(2), object(3)\n",
      "memory usage: 5.6+ KB\n"
     ]
    }
   ],
   "source": [
    "df.info()"
   ]
  },
  {
   "cell_type": "markdown",
   "id": "9b3899e6-65c9-42c9-b3ab-20a9e4858ea9",
   "metadata": {},
   "source": [
    "# Check if any EmployeeID startswith zero"
   ]
  },
  {
   "cell_type": "code",
   "execution_count": 6,
   "id": "ec31bae7-270b-4272-bccd-7fde52e10547",
   "metadata": {},
   "outputs": [],
   "source": [
    "\n",
    "eid = df['EmployeeID']\n",
    "for i in range(len(eid)):\n",
    "    if str(eid[i]).startswith(str(0)):\n",
    "        print(eid[i])\n",
    "\n",
    "# Convert Date of Joining Dataset to datetime\n",
    "df['DateOfJoining'] = pd.to_datetime(df['DateOfJoining'])\n",
    "df.to_csv('employee_data.csv', index=False)"
   ]
  },
  {
   "cell_type": "markdown",
   "id": "f6f84584-89ee-46af-9a71-b63437355aa2",
   "metadata": {},
   "source": [
    "# Handle Missing Performance Score with Median and save to the csv file"
   ]
  },
  {
   "cell_type": "code",
   "execution_count": 7,
   "id": "f26541b7-528f-4b54-a185-e66ec471c98f",
   "metadata": {},
   "outputs": [],
   "source": [
    "df['PerformanceScore'] = df['PerformanceScore'].fillna(df['PerformanceScore'].median())\n",
    "df.to_csv('employee_data.csv', index=False)"
   ]
  },
  {
   "cell_type": "code",
   "execution_count": 8,
   "id": "e5653f63-f897-4658-92b3-357979b504b6",
   "metadata": {},
   "outputs": [
    {
     "name": "stdout",
     "output_type": "stream",
     "text": [
      "\n",
      "Cleaned Dataset\n",
      "<class 'pandas.core.frame.DataFrame'>\n",
      "RangeIndex: 100 entries, 0 to 99\n",
      "Data columns (total 7 columns):\n",
      " #   Column            Non-Null Count  Dtype         \n",
      "---  ------            --------------  -----         \n",
      " 0   EmployeeID        100 non-null    int64         \n",
      " 1   Name              100 non-null    object        \n",
      " 2   Department        100 non-null    object        \n",
      " 3   Salary            100 non-null    float64       \n",
      " 4   Age               100 non-null    int64         \n",
      " 5   DateOfJoining     100 non-null    datetime64[ns]\n",
      " 6   PerformanceScore  100 non-null    float64       \n",
      "dtypes: datetime64[ns](1), float64(2), int64(2), object(2)\n",
      "memory usage: 5.6+ KB\n"
     ]
    }
   ],
   "source": [
    "\n",
    "# Remove Duplicates based on 'EmployeeID'\n",
    "df = df.drop_duplicates(subset='EmployeeID')\n",
    "\n",
    "# Check for any negative values in 'Salary' and 'Age' (outlier handling)\n",
    "df['Salary'] = df['Salary'].clip(lower=0)\n",
    "df['Age'] = df['Age'].clip(lower=18)  # Ensure no employees have age less than 18\n",
    "\n",
    "# Optional: Check for outliers in 'Salary' and 'Age' (e.g., using z-scores or IQR, but for simplicity let's assume clean data here)\n",
    "\n",
    "# Final cleaned data preview\n",
    "print(\"\\nCleaned Dataset\")\n",
    "df.info()"
   ]
  }
 ],
 "metadata": {
  "kernelspec": {
   "display_name": "Python 3 (ipykernel)",
   "language": "python",
   "name": "python3"
  },
  "language_info": {
   "codemirror_mode": {
    "name": "ipython",
    "version": 3
   },
   "file_extension": ".py",
   "mimetype": "text/x-python",
   "name": "python",
   "nbconvert_exporter": "python",
   "pygments_lexer": "ipython3",
   "version": "3.12.8"
  }
 },
 "nbformat": 4,
 "nbformat_minor": 5
}
