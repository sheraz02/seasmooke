{
 "cells": [
  {
   "cell_type": "code",
   "execution_count": 2,
   "id": "13f8968f-f823-4607-9ba9-ae9c1a783cb5",
   "metadata": {},
   "outputs": [],
   "source": [
    "import numpy as np\n",
    "import pandas as pd\n",
    "import matplotlib.pyplot as plt\n",
    "from faker import Faker\n",
    "import plotly.express as px\n",
    "import plotly.graph_objects as go\n",
    "from sklearn.preprocessing import StandardScaler, LabelEncoder\n"
   ]
  },
  {
   "cell_type": "code",
   "execution_count": 3,
   "id": "41ae20de-e70f-41f7-a456-ff9ccb6bea94",
   "metadata": {},
   "outputs": [],
   "source": [
    "# fake = Faker()\n",
    "\n",
    "# np.random.seed(42)\n",
    "# num_samples = 100\n",
    "# data = {\n",
    "#     \"Name\": [fake.name() for _ in range(num_samples)],\n",
    "#     \"Age\": np.random.randint(18, 65, num_samples),\n",
    "#     \"Gender\": np.random.choice([\"Male\", \"Female\", \"Other\"], num_samples),\n",
    "#     \"Salary\": np.random.randint(25000, 150000, num_samples),\n",
    "#     \"Joining Date\": [fake.date_between(start_date='-10y', end_date='today') for _ in range(num_samples)],\n",
    "#     \"Department\": np.random.choice([\"IT\", \"HR\", \"Finance\", \"Marketing\", \"Sales\"], num_samples),\n",
    "#     \"Phone\": [fake.phone_number() for _ in range(num_samples)],\n",
    "#     \"Email\": [fake.email() for _ in range(num_samples)],\n",
    "#     \"Address\": [fake.address() for _ in  range(num_samples)]\n",
    "# }\n",
    "\n",
    "# df = pd.DataFrame(data)\n",
    "# df.sort_values(by=['Salary'], ascending=False)\n",
    "# df.head(10)\n",
    "# df.to_csv('employee_data.csv', index=True)\n",
    "# df.shape"
   ]
  },
  {
   "cell_type": "code",
   "execution_count": 5,
   "id": "2d52efe7-ae1c-4bd9-9d9a-c3313d444418",
   "metadata": {},
   "outputs": [
    {
     "data": {
      "text/html": [
       "<div>\n",
       "<style scoped>\n",
       "    .dataframe tbody tr th:only-of-type {\n",
       "        vertical-align: middle;\n",
       "    }\n",
       "\n",
       "    .dataframe tbody tr th {\n",
       "        vertical-align: top;\n",
       "    }\n",
       "\n",
       "    .dataframe thead th {\n",
       "        text-align: right;\n",
       "    }\n",
       "</style>\n",
       "<table border=\"1\" class=\"dataframe\">\n",
       "  <thead>\n",
       "    <tr style=\"text-align: right;\">\n",
       "      <th></th>\n",
       "      <th>entityName</th>\n",
       "      <th>year</th>\n",
       "    </tr>\n",
       "  </thead>\n",
       "  <tbody>\n",
       "  </tbody>\n",
       "</table>\n",
       "</div>"
      ],
      "text/plain": [
       "Empty DataFrame\n",
       "Columns: [entityName, year]\n",
       "Index: []"
      ]
     },
     "execution_count": 5,
     "metadata": {},
     "output_type": "execute_result"
    }
   ],
   "source": [
    "df = pd.read_csv('wheat-yield.csv')\n",
    "df"
   ]
  },
  {
   "cell_type": "code",
   "execution_count": 6,
   "id": "13d8439d-c9d4-478f-b264-74de47a9b8ee",
   "metadata": {},
   "outputs": [
    {
     "name": "stdout",
     "output_type": "stream",
     "text": [
      "<class 'pandas.core.frame.DataFrame'>\n",
      "RangeIndex: 0 entries\n",
      "Data columns (total 2 columns):\n",
      " #   Column      Non-Null Count  Dtype \n",
      "---  ------      --------------  ----- \n",
      " 0   entityName  0 non-null      object\n",
      " 1   year        0 non-null      object\n",
      "dtypes: object(2)\n",
      "memory usage: 132.0+ bytes\n"
     ]
    }
   ],
   "source": [
    "df.info()"
   ]
  },
  {
   "cell_type": "code",
   "execution_count": 7,
   "id": "f11c2edd-4d2b-4e30-bb28-8c8f8f66b5e6",
   "metadata": {},
   "outputs": [
    {
     "ename": "KeyError",
     "evalue": "'Genre'",
     "output_type": "error",
     "traceback": [
      "\u001b[0;31m---------------------------------------------------------------------------\u001b[0m",
      "\u001b[0;31mKeyError\u001b[0m                                  Traceback (most recent call last)",
      "File \u001b[0;32m~/Desktop/01-app/venv/lib/python3.12/site-packages/pandas/core/indexes/base.py:3805\u001b[0m, in \u001b[0;36mIndex.get_loc\u001b[0;34m(self, key)\u001b[0m\n\u001b[1;32m   3804\u001b[0m \u001b[38;5;28;01mtry\u001b[39;00m:\n\u001b[0;32m-> 3805\u001b[0m     \u001b[38;5;28;01mreturn\u001b[39;00m \u001b[38;5;28;43mself\u001b[39;49m\u001b[38;5;241;43m.\u001b[39;49m\u001b[43m_engine\u001b[49m\u001b[38;5;241;43m.\u001b[39;49m\u001b[43mget_loc\u001b[49m\u001b[43m(\u001b[49m\u001b[43mcasted_key\u001b[49m\u001b[43m)\u001b[49m\n\u001b[1;32m   3806\u001b[0m \u001b[38;5;28;01mexcept\u001b[39;00m \u001b[38;5;167;01mKeyError\u001b[39;00m \u001b[38;5;28;01mas\u001b[39;00m err:\n",
      "File \u001b[0;32mindex.pyx:167\u001b[0m, in \u001b[0;36mpandas._libs.index.IndexEngine.get_loc\u001b[0;34m()\u001b[0m\n",
      "File \u001b[0;32mindex.pyx:196\u001b[0m, in \u001b[0;36mpandas._libs.index.IndexEngine.get_loc\u001b[0;34m()\u001b[0m\n",
      "File \u001b[0;32mpandas/_libs/hashtable_class_helper.pxi:7081\u001b[0m, in \u001b[0;36mpandas._libs.hashtable.PyObjectHashTable.get_item\u001b[0;34m()\u001b[0m\n",
      "File \u001b[0;32mpandas/_libs/hashtable_class_helper.pxi:7089\u001b[0m, in \u001b[0;36mpandas._libs.hashtable.PyObjectHashTable.get_item\u001b[0;34m()\u001b[0m\n",
      "\u001b[0;31mKeyError\u001b[0m: 'Genre'",
      "\nThe above exception was the direct cause of the following exception:\n",
      "\u001b[0;31mKeyError\u001b[0m                                  Traceback (most recent call last)",
      "Cell \u001b[0;32mIn[7], line 1\u001b[0m\n\u001b[0;32m----> 1\u001b[0m \u001b[43mdf\u001b[49m\u001b[43m[\u001b[49m\u001b[38;5;124;43m'\u001b[39;49m\u001b[38;5;124;43mGenre\u001b[39;49m\u001b[38;5;124;43m'\u001b[39;49m\u001b[43m]\u001b[49m\n",
      "File \u001b[0;32m~/Desktop/01-app/venv/lib/python3.12/site-packages/pandas/core/frame.py:4102\u001b[0m, in \u001b[0;36mDataFrame.__getitem__\u001b[0;34m(self, key)\u001b[0m\n\u001b[1;32m   4100\u001b[0m \u001b[38;5;28;01mif\u001b[39;00m \u001b[38;5;28mself\u001b[39m\u001b[38;5;241m.\u001b[39mcolumns\u001b[38;5;241m.\u001b[39mnlevels \u001b[38;5;241m>\u001b[39m \u001b[38;5;241m1\u001b[39m:\n\u001b[1;32m   4101\u001b[0m     \u001b[38;5;28;01mreturn\u001b[39;00m \u001b[38;5;28mself\u001b[39m\u001b[38;5;241m.\u001b[39m_getitem_multilevel(key)\n\u001b[0;32m-> 4102\u001b[0m indexer \u001b[38;5;241m=\u001b[39m \u001b[38;5;28;43mself\u001b[39;49m\u001b[38;5;241;43m.\u001b[39;49m\u001b[43mcolumns\u001b[49m\u001b[38;5;241;43m.\u001b[39;49m\u001b[43mget_loc\u001b[49m\u001b[43m(\u001b[49m\u001b[43mkey\u001b[49m\u001b[43m)\u001b[49m\n\u001b[1;32m   4103\u001b[0m \u001b[38;5;28;01mif\u001b[39;00m is_integer(indexer):\n\u001b[1;32m   4104\u001b[0m     indexer \u001b[38;5;241m=\u001b[39m [indexer]\n",
      "File \u001b[0;32m~/Desktop/01-app/venv/lib/python3.12/site-packages/pandas/core/indexes/base.py:3812\u001b[0m, in \u001b[0;36mIndex.get_loc\u001b[0;34m(self, key)\u001b[0m\n\u001b[1;32m   3807\u001b[0m     \u001b[38;5;28;01mif\u001b[39;00m \u001b[38;5;28misinstance\u001b[39m(casted_key, \u001b[38;5;28mslice\u001b[39m) \u001b[38;5;129;01mor\u001b[39;00m (\n\u001b[1;32m   3808\u001b[0m         \u001b[38;5;28misinstance\u001b[39m(casted_key, abc\u001b[38;5;241m.\u001b[39mIterable)\n\u001b[1;32m   3809\u001b[0m         \u001b[38;5;129;01mand\u001b[39;00m \u001b[38;5;28many\u001b[39m(\u001b[38;5;28misinstance\u001b[39m(x, \u001b[38;5;28mslice\u001b[39m) \u001b[38;5;28;01mfor\u001b[39;00m x \u001b[38;5;129;01min\u001b[39;00m casted_key)\n\u001b[1;32m   3810\u001b[0m     ):\n\u001b[1;32m   3811\u001b[0m         \u001b[38;5;28;01mraise\u001b[39;00m InvalidIndexError(key)\n\u001b[0;32m-> 3812\u001b[0m     \u001b[38;5;28;01mraise\u001b[39;00m \u001b[38;5;167;01mKeyError\u001b[39;00m(key) \u001b[38;5;28;01mfrom\u001b[39;00m\u001b[38;5;250m \u001b[39m\u001b[38;5;21;01merr\u001b[39;00m\n\u001b[1;32m   3813\u001b[0m \u001b[38;5;28;01mexcept\u001b[39;00m \u001b[38;5;167;01mTypeError\u001b[39;00m:\n\u001b[1;32m   3814\u001b[0m     \u001b[38;5;66;03m# If we have a listlike key, _check_indexing_error will raise\u001b[39;00m\n\u001b[1;32m   3815\u001b[0m     \u001b[38;5;66;03m#  InvalidIndexError. Otherwise we fall through and re-raise\u001b[39;00m\n\u001b[1;32m   3816\u001b[0m     \u001b[38;5;66;03m#  the TypeError.\u001b[39;00m\n\u001b[1;32m   3817\u001b[0m     \u001b[38;5;28mself\u001b[39m\u001b[38;5;241m.\u001b[39m_check_indexing_error(key)\n",
      "\u001b[0;31mKeyError\u001b[0m: 'Genre'"
     ]
    }
   ],
   "source": [
    "df['Genre']"
   ]
  },
  {
   "cell_type": "code",
   "execution_count": 59,
   "id": "e9231637-4638-41ac-9ce0-2047c5d56086",
   "metadata": {},
   "outputs": [
    {
     "name": "stdout",
     "output_type": "stream",
     "text": [
      "{'Spider-Man: No Way Home': ['Action, Adventure, Science Fiction', 'Crime, Mystery, Thriller', 'Thriller', 'Animation, Comedy, Family, Fantasy', 'Action, Adventure, Thriller, War', 'Action, Crime, Thriller', 'Horror, Mystery, Thriller', 'Thriller', 'Action, Crime, Fantasy', 'Science Fiction'], 'The Batman': ['Action, Adventure, Science Fiction', 'Crime, Mystery, Thriller', 'Thriller', 'Animation, Comedy, Family, Fantasy', 'Action, Adventure, Thriller, War', 'Action, Crime, Thriller', 'Horror, Mystery, Thriller', 'Thriller', 'Action, Crime, Fantasy', 'Science Fiction'], 'No Exit': ['Action, Adventure, Science Fiction', 'Crime, Mystery, Thriller', 'Thriller', 'Animation, Comedy, Family, Fantasy', 'Action, Adventure, Thriller, War', 'Action, Crime, Thriller', 'Horror, Mystery, Thriller', 'Thriller', 'Action, Crime, Fantasy', 'Science Fiction'], 'Encanto': ['Action, Adventure, Science Fiction', 'Crime, Mystery, Thriller', 'Thriller', 'Animation, Comedy, Family, Fantasy', 'Action, Adventure, Thriller, War', 'Action, Crime, Thriller', 'Horror, Mystery, Thriller', 'Thriller', 'Action, Crime, Fantasy', 'Science Fiction'], \"The King's Man\": ['Action, Adventure, Science Fiction', 'Crime, Mystery, Thriller', 'Thriller', 'Animation, Comedy, Family, Fantasy', 'Action, Adventure, Thriller, War', 'Action, Crime, Thriller', 'Horror, Mystery, Thriller', 'Thriller', 'Action, Crime, Fantasy', 'Science Fiction'], 'The Commando': ['Action, Adventure, Science Fiction', 'Crime, Mystery, Thriller', 'Thriller', 'Animation, Comedy, Family, Fantasy', 'Action, Adventure, Thriller, War', 'Action, Crime, Thriller', 'Horror, Mystery, Thriller', 'Thriller', 'Action, Crime, Fantasy', 'Science Fiction'], 'Scream': ['Action, Adventure, Science Fiction', 'Crime, Mystery, Thriller', 'Thriller', 'Animation, Comedy, Family, Fantasy', 'Action, Adventure, Thriller, War', 'Action, Crime, Thriller', 'Horror, Mystery, Thriller', 'Thriller', 'Action, Crime, Fantasy', 'Science Fiction'], 'Kimi': ['Action, Adventure, Science Fiction', 'Crime, Mystery, Thriller', 'Thriller', 'Animation, Comedy, Family, Fantasy', 'Action, Adventure, Thriller, War', 'Action, Crime, Thriller', 'Horror, Mystery, Thriller', 'Thriller', 'Action, Crime, Fantasy', 'Science Fiction'], 'Fistful of Vengeance': ['Action, Adventure, Science Fiction', 'Crime, Mystery, Thriller', 'Thriller', 'Animation, Comedy, Family, Fantasy', 'Action, Adventure, Thriller, War', 'Action, Crime, Thriller', 'Horror, Mystery, Thriller', 'Thriller', 'Action, Crime, Fantasy', 'Science Fiction'], 'Eternals': ['Action, Adventure, Science Fiction', 'Crime, Mystery, Thriller', 'Thriller', 'Animation, Comedy, Family, Fantasy', 'Action, Adventure, Thriller, War', 'Action, Crime, Thriller', 'Horror, Mystery, Thriller', 'Thriller', 'Action, Crime, Fantasy', 'Science Fiction']}\n"
     ]
    }
   ],
   "source": [
    "name = [x for x in df['Title'].head(10)]\n",
    "genre = [x for x in df['Genre'].head(10)]\n",
    "# genre\n",
    "movie_genres = {}\n",
    "\n",
    "# # Loop through the list of movies to add each title with its genre to the dictionary\n",
    "for movie in name:\n",
    "    movie_genres[movie] = [x for x in df['Genre'].head(10)]\n",
    "\n",
    "\n",
    "print(movie_genres)"
   ]
  },
  {
   "cell_type": "code",
   "execution_count": null,
   "id": "7a5400ff-5e15-41ce-9e34-6932d8fe11d9",
   "metadata": {},
   "outputs": [],
   "source": []
  }
 ],
 "metadata": {
  "kernelspec": {
   "display_name": "Python 3 (ipykernel)",
   "language": "python",
   "name": "python3"
  },
  "language_info": {
   "codemirror_mode": {
    "name": "ipython",
    "version": 3
   },
   "file_extension": ".py",
   "mimetype": "text/x-python",
   "name": "python",
   "nbconvert_exporter": "python",
   "pygments_lexer": "ipython3",
   "version": "3.12.8"
  }
 },
 "nbformat": 4,
 "nbformat_minor": 5
}
